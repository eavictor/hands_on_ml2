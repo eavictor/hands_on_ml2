{
 "cells": [
  {
   "cell_type": "code",
   "execution_count": 1,
   "metadata": {
    "collapsed": true,
    "pycharm": {
     "is_executing": false
    }
   },
   "outputs": [],
   "source": [
    "import pandas as pd"
   ]
  },
  {
   "cell_type": "code",
   "execution_count": 2,
   "outputs": [
    {
     "name": "stdout",
     "text": [
      "Index(['LOCATION', 'Country', 'INDICATOR', 'Indicator', 'MEASURE', 'Measure',\n",
      "       'INEQUALITY', 'Inequality', 'Unit Code', 'Unit', 'PowerCode Code',\n",
      "       'PowerCode', 'Reference Period Code', 'Reference Period', 'Value',\n",
      "       'Flag Codes', 'Flags'],\n",
      "      dtype='object')\n"
     ],
     "output_type": "stream"
    },
    {
     "data": {
      "text/plain": "Indicator  Air pollution  Dwellings without basic facilities  \\\nCountry                                                        \nAustralia            5.0                                 NaN   \nAustria             16.0                                 0.9   \nBelgium             15.0                                 1.9   \nBrazil              10.0                                 6.7   \nCanada               7.0                                 0.2   \n\nIndicator  Educational attainment  Employees working very long hours  \\\nCountry                                                                \nAustralia                    81.0                              13.04   \nAustria                      85.0                               6.66   \nBelgium                      77.0                               4.75   \nBrazil                       49.0                               7.13   \nCanada                       91.0                               3.69   \n\nIndicator  Employment rate  Feeling safe walking alone at night  \\\nCountry                                                           \nAustralia             73.0                                 63.5   \nAustria               72.0                                 80.6   \nBelgium               63.0                                 70.1   \nBrazil                61.0                                 35.6   \nCanada                73.0                                 82.2   \n\nIndicator  Homicide rate  Household net adjusted disposable income  \\\nCountry                                                              \nAustralia            1.1                                   32759.0   \nAustria              0.5                                   33541.0   \nBelgium              1.0                                   30364.0   \nBrazil              26.7                                       NaN   \nCanada               1.3                                   30854.0   \n\nIndicator  Household net wealth  Housing expenditure  ...  Personal earnings  \\\nCountry                                               ...                      \nAustralia              427064.0                 20.0  ...            49126.0   \nAustria                308325.0                 21.0  ...            50349.0   \nBelgium                386006.0                 21.0  ...            49675.0   \nBrazil                      NaN                  NaN  ...                NaN   \nCanada                 423849.0                 22.0  ...            47622.0   \n\nIndicator  Quality of support network  Rooms per person  Self-reported health  \\\nCountry                                                                         \nAustralia                        95.0               NaN                  85.0   \nAustria                          92.0               1.6                  70.0   \nBelgium                          91.0               2.2                  74.0   \nBrazil                           90.0               NaN                   NaN   \nCanada                           93.0               2.6                  88.0   \n\nIndicator  Stakeholder engagement for developing regulations  Student skills  \\\nCountry                                                                        \nAustralia                                                2.7           502.0   \nAustria                                                  1.3           492.0   \nBelgium                                                  2.0           503.0   \nBrazil                                                   2.2           395.0   \nCanada                                                   2.9           523.0   \n\nIndicator  Time devoted to leisure and personal care  Voter turnout  \\\nCountry                                                               \nAustralia                                      14.35           91.0   \nAustria                                        14.55           80.0   \nBelgium                                        15.70           89.0   \nBrazil                                           NaN           79.0   \nCanada                                         14.56           68.0   \n\nIndicator  Water quality  Years in education  \nCountry                                       \nAustralia           93.0                21.0  \nAustria             92.0                17.0  \nBelgium             84.0                19.3  \nBrazil              73.0                16.2  \nCanada              91.0                17.3  \n\n[5 rows x 24 columns]",
      "text/html": "<div>\n<style scoped>\n    .dataframe tbody tr th:only-of-type {\n        vertical-align: middle;\n    }\n\n    .dataframe tbody tr th {\n        vertical-align: top;\n    }\n\n    .dataframe thead th {\n        text-align: right;\n    }\n</style>\n<table border=\"1\" class=\"dataframe\">\n  <thead>\n    <tr style=\"text-align: right;\">\n      <th>Indicator</th>\n      <th>Air pollution</th>\n      <th>Dwellings without basic facilities</th>\n      <th>Educational attainment</th>\n      <th>Employees working very long hours</th>\n      <th>Employment rate</th>\n      <th>Feeling safe walking alone at night</th>\n      <th>Homicide rate</th>\n      <th>Household net adjusted disposable income</th>\n      <th>Household net wealth</th>\n      <th>Housing expenditure</th>\n      <th>...</th>\n      <th>Personal earnings</th>\n      <th>Quality of support network</th>\n      <th>Rooms per person</th>\n      <th>Self-reported health</th>\n      <th>Stakeholder engagement for developing regulations</th>\n      <th>Student skills</th>\n      <th>Time devoted to leisure and personal care</th>\n      <th>Voter turnout</th>\n      <th>Water quality</th>\n      <th>Years in education</th>\n    </tr>\n    <tr>\n      <th>Country</th>\n      <th></th>\n      <th></th>\n      <th></th>\n      <th></th>\n      <th></th>\n      <th></th>\n      <th></th>\n      <th></th>\n      <th></th>\n      <th></th>\n      <th></th>\n      <th></th>\n      <th></th>\n      <th></th>\n      <th></th>\n      <th></th>\n      <th></th>\n      <th></th>\n      <th></th>\n      <th></th>\n      <th></th>\n    </tr>\n  </thead>\n  <tbody>\n    <tr>\n      <th>Australia</th>\n      <td>5.0</td>\n      <td>NaN</td>\n      <td>81.0</td>\n      <td>13.04</td>\n      <td>73.0</td>\n      <td>63.5</td>\n      <td>1.1</td>\n      <td>32759.0</td>\n      <td>427064.0</td>\n      <td>20.0</td>\n      <td>...</td>\n      <td>49126.0</td>\n      <td>95.0</td>\n      <td>NaN</td>\n      <td>85.0</td>\n      <td>2.7</td>\n      <td>502.0</td>\n      <td>14.35</td>\n      <td>91.0</td>\n      <td>93.0</td>\n      <td>21.0</td>\n    </tr>\n    <tr>\n      <th>Austria</th>\n      <td>16.0</td>\n      <td>0.9</td>\n      <td>85.0</td>\n      <td>6.66</td>\n      <td>72.0</td>\n      <td>80.6</td>\n      <td>0.5</td>\n      <td>33541.0</td>\n      <td>308325.0</td>\n      <td>21.0</td>\n      <td>...</td>\n      <td>50349.0</td>\n      <td>92.0</td>\n      <td>1.6</td>\n      <td>70.0</td>\n      <td>1.3</td>\n      <td>492.0</td>\n      <td>14.55</td>\n      <td>80.0</td>\n      <td>92.0</td>\n      <td>17.0</td>\n    </tr>\n    <tr>\n      <th>Belgium</th>\n      <td>15.0</td>\n      <td>1.9</td>\n      <td>77.0</td>\n      <td>4.75</td>\n      <td>63.0</td>\n      <td>70.1</td>\n      <td>1.0</td>\n      <td>30364.0</td>\n      <td>386006.0</td>\n      <td>21.0</td>\n      <td>...</td>\n      <td>49675.0</td>\n      <td>91.0</td>\n      <td>2.2</td>\n      <td>74.0</td>\n      <td>2.0</td>\n      <td>503.0</td>\n      <td>15.70</td>\n      <td>89.0</td>\n      <td>84.0</td>\n      <td>19.3</td>\n    </tr>\n    <tr>\n      <th>Brazil</th>\n      <td>10.0</td>\n      <td>6.7</td>\n      <td>49.0</td>\n      <td>7.13</td>\n      <td>61.0</td>\n      <td>35.6</td>\n      <td>26.7</td>\n      <td>NaN</td>\n      <td>NaN</td>\n      <td>NaN</td>\n      <td>...</td>\n      <td>NaN</td>\n      <td>90.0</td>\n      <td>NaN</td>\n      <td>NaN</td>\n      <td>2.2</td>\n      <td>395.0</td>\n      <td>NaN</td>\n      <td>79.0</td>\n      <td>73.0</td>\n      <td>16.2</td>\n    </tr>\n    <tr>\n      <th>Canada</th>\n      <td>7.0</td>\n      <td>0.2</td>\n      <td>91.0</td>\n      <td>3.69</td>\n      <td>73.0</td>\n      <td>82.2</td>\n      <td>1.3</td>\n      <td>30854.0</td>\n      <td>423849.0</td>\n      <td>22.0</td>\n      <td>...</td>\n      <td>47622.0</td>\n      <td>93.0</td>\n      <td>2.6</td>\n      <td>88.0</td>\n      <td>2.9</td>\n      <td>523.0</td>\n      <td>14.56</td>\n      <td>68.0</td>\n      <td>91.0</td>\n      <td>17.3</td>\n    </tr>\n  </tbody>\n</table>\n<p>5 rows × 24 columns</p>\n</div>"
     },
     "metadata": {},
     "output_type": "execute_result",
     "execution_count": 2
    }
   ],
   "source": [
    "oecd = pd.read_csv(\"oecd_bli.csv\")\n",
    "print(oecd.columns)\n",
    "oecd = oecd[oecd[\"INEQUALITY\"]==\"TOT\"]\n",
    "oecd = oecd.pivot(index=\"Country\", columns=\"Indicator\", values=\"Value\")\n",
    "oecd.head()"
   ],
   "metadata": {
    "collapsed": false,
    "pycharm": {
     "name": "#%%\n",
     "is_executing": false
    }
   }
  },
  {
   "cell_type": "code",
   "execution_count": 3,
   "outputs": [
    {
     "name": "stdout",
     "text": [
      "GDP per capita RAW: Index(['Country Name', 'Country Code', 'Indicator Name', 'Indicator Code',\n",
      "       '1960', '1961', '1962', '1963', '1964', '1965', '1966', '1967', '1968',\n",
      "       '1969', '1970', '1971', '1972', '1973', '1974', '1975', '1976', '1977',\n",
      "       '1978', '1979', '1980', '1981', '1982', '1983', '1984', '1985', '1986',\n",
      "       '1987', '1988', '1989', '1990', '1991', '1992', '1993', '1994', '1995',\n",
      "       '1996', '1997', '1998', '1999', '2000', '2001', '2002', '2003', '2004',\n",
      "       '2005', '2006', '2007', '2008', '2009', '2010', '2011', '2012', '2013',\n",
      "       '2014', '2015', '2016', '2017', '2018', '2019', 'Unnamed: 64'],\n",
      "      dtype='object')\n",
      "GDP per capita Renamed: Index(['Country Name', 'Country Code', 'Indicator Name', 'Indicator Code',\n",
      "       '1960', '1961', '1962', '1963', '1964', '1965', '1966', '1967', '1968',\n",
      "       '1969', '1970', '1971', '1972', '1973', '1974', '1975', '1976', '1977',\n",
      "       '1978', '1979', '1980', '1981', '1982', '1983', '1984', '1985', '1986',\n",
      "       '1987', '1988', '1989', '1990', '1991', '1992', '1993', '1994', '1995',\n",
      "       '1996', '1997', '1998', '1999', '2000', '2001', '2002', '2003', '2004',\n",
      "       '2005', '2006', '2007', '2008', '2009', '2010', '2011', '2012', '2013',\n",
      "       '2014', '2015', '2016', '2017', 'GDP per capita', '2019',\n",
      "       'Unnamed: 64'],\n",
      "      dtype='object')\n",
      "GDP per capita with only single square brackets:\n"
     ],
     "output_type": "stream"
    },
    {
     "data": {
      "text/plain": "              GDP per capita\nCountry Name                \nAruba                    NaN\nAfghanistan       520.896603\nAngola           3432.385736\nAlbania          5253.630064\nAndorra         42029.762737",
      "text/html": "<div>\n<style scoped>\n    .dataframe tbody tr th:only-of-type {\n        vertical-align: middle;\n    }\n\n    .dataframe tbody tr th {\n        vertical-align: top;\n    }\n\n    .dataframe thead th {\n        text-align: right;\n    }\n</style>\n<table border=\"1\" class=\"dataframe\">\n  <thead>\n    <tr style=\"text-align: right;\">\n      <th></th>\n      <th>GDP per capita</th>\n    </tr>\n    <tr>\n      <th>Country Name</th>\n      <th></th>\n    </tr>\n  </thead>\n  <tbody>\n    <tr>\n      <th>Aruba</th>\n      <td>NaN</td>\n    </tr>\n    <tr>\n      <th>Afghanistan</th>\n      <td>520.896603</td>\n    </tr>\n    <tr>\n      <th>Angola</th>\n      <td>3432.385736</td>\n    </tr>\n    <tr>\n      <th>Albania</th>\n      <td>5253.630064</td>\n    </tr>\n    <tr>\n      <th>Andorra</th>\n      <td>42029.762737</td>\n    </tr>\n  </tbody>\n</table>\n</div>"
     },
     "metadata": {},
     "output_type": "execute_result",
     "execution_count": 3
    }
   ],
   "source": [
    "gdp = pd.read_csv(\"gdp_per_capita.csv\")\n",
    "print(\"GDP per capita RAW:\", gdp.columns)\n",
    "\n",
    "gdp.rename(columns={\"2018\": \"GDP per capita\"}, inplace=True)\n",
    "print(\"GDP per capita Renamed:\", gdp.columns)\n",
    "\n",
    "gdp.set_index(\"Country Name\", inplace=True)\n",
    "gdp.head()\n",
    "\n",
    "print(\"GDP per capita with only single square brackets:\")\n",
    "\n",
    "\n",
    "gdp = gdp[[\"GDP per capita\"]]\n",
    "gdp.head()"
   ],
   "metadata": {
    "collapsed": false,
    "pycharm": {
     "name": "#%%\n",
     "is_executing": false
    }
   }
  },
  {
   "cell_type": "code",
   "execution_count": 4,
   "outputs": [
    {
     "data": {
      "text/plain": "              Air pollution  Dwellings without basic facilities  \\\nSouth Africa           22.0                                37.0   \nColombia               10.0                                23.9   \nBrazil                 10.0                                 6.7   \nTurkey                 20.0                                 8.0   \nMexico                 16.0                                25.5   \n\n              Educational attainment  Employees working very long hours  \\\nSouth Africa                    73.0                              18.12   \nColombia                        54.0                              26.56   \nBrazil                          49.0                               7.13   \nTurkey                          39.0                              32.64   \nMexico                          38.0                              28.70   \n\n              Employment rate  Feeling safe walking alone at night  \\\nSouth Africa             43.0                                 36.1   \nColombia                 67.0                                 44.4   \nBrazil                   61.0                                 35.6   \nTurkey                   52.0                                 59.8   \nMexico                   61.0                                 41.8   \n\n              Homicide rate  Household net adjusted disposable income  \\\nSouth Africa           13.7                                       NaN   \nColombia               24.5                                       NaN   \nBrazil                 26.7                                       NaN   \nTurkey                  1.4                                       NaN   \nMexico                 18.1                                       NaN   \n\n              Household net wealth  Housing expenditure  ...  \\\nSouth Africa                   NaN                 18.0  ...   \nColombia                       NaN                 17.0  ...   \nBrazil                         NaN                  NaN  ...   \nTurkey                         NaN                 20.0  ...   \nMexico                         NaN                 20.0  ...   \n\n              Quality of support network  Rooms per person  \\\nSouth Africa                        88.0               NaN   \nColombia                            89.0               1.2   \nBrazil                              90.0               NaN   \nTurkey                              86.0               1.0   \nMexico                              81.0               1.0   \n\n              Self-reported health  \\\nSouth Africa                   NaN   \nColombia                       NaN   \nBrazil                         NaN   \nTurkey                        69.0   \nMexico                        66.0   \n\n              Stakeholder engagement for developing regulations  \\\nSouth Africa                                                NaN   \nColombia                                                    1.4   \nBrazil                                                      2.2   \nTurkey                                                      1.5   \nMexico                                                      3.2   \n\n              Student skills  Time devoted to leisure and personal care  \\\nSouth Africa             NaN                                      14.92   \nColombia               410.0                                        NaN   \nBrazil                 395.0                                        NaN   \nTurkey                 425.0                                      14.79   \nMexico                 416.0                                        NaN   \n\n              Voter turnout  Water quality  Years in education  GDP per capita  \nSouth Africa           73.0           67.0                 NaN     6374.015446  \nColombia               53.0           75.0                14.1     6651.291293  \nBrazil                 79.0           73.0                16.2     8920.762105  \nTurkey                 86.0           65.0                18.3     9311.366117  \nMexico                 63.0           68.0                15.2     9698.084187  \n\n[5 rows x 25 columns]",
      "text/html": "<div>\n<style scoped>\n    .dataframe tbody tr th:only-of-type {\n        vertical-align: middle;\n    }\n\n    .dataframe tbody tr th {\n        vertical-align: top;\n    }\n\n    .dataframe thead th {\n        text-align: right;\n    }\n</style>\n<table border=\"1\" class=\"dataframe\">\n  <thead>\n    <tr style=\"text-align: right;\">\n      <th></th>\n      <th>Air pollution</th>\n      <th>Dwellings without basic facilities</th>\n      <th>Educational attainment</th>\n      <th>Employees working very long hours</th>\n      <th>Employment rate</th>\n      <th>Feeling safe walking alone at night</th>\n      <th>Homicide rate</th>\n      <th>Household net adjusted disposable income</th>\n      <th>Household net wealth</th>\n      <th>Housing expenditure</th>\n      <th>...</th>\n      <th>Quality of support network</th>\n      <th>Rooms per person</th>\n      <th>Self-reported health</th>\n      <th>Stakeholder engagement for developing regulations</th>\n      <th>Student skills</th>\n      <th>Time devoted to leisure and personal care</th>\n      <th>Voter turnout</th>\n      <th>Water quality</th>\n      <th>Years in education</th>\n      <th>GDP per capita</th>\n    </tr>\n  </thead>\n  <tbody>\n    <tr>\n      <th>South Africa</th>\n      <td>22.0</td>\n      <td>37.0</td>\n      <td>73.0</td>\n      <td>18.12</td>\n      <td>43.0</td>\n      <td>36.1</td>\n      <td>13.7</td>\n      <td>NaN</td>\n      <td>NaN</td>\n      <td>18.0</td>\n      <td>...</td>\n      <td>88.0</td>\n      <td>NaN</td>\n      <td>NaN</td>\n      <td>NaN</td>\n      <td>NaN</td>\n      <td>14.92</td>\n      <td>73.0</td>\n      <td>67.0</td>\n      <td>NaN</td>\n      <td>6374.015446</td>\n    </tr>\n    <tr>\n      <th>Colombia</th>\n      <td>10.0</td>\n      <td>23.9</td>\n      <td>54.0</td>\n      <td>26.56</td>\n      <td>67.0</td>\n      <td>44.4</td>\n      <td>24.5</td>\n      <td>NaN</td>\n      <td>NaN</td>\n      <td>17.0</td>\n      <td>...</td>\n      <td>89.0</td>\n      <td>1.2</td>\n      <td>NaN</td>\n      <td>1.4</td>\n      <td>410.0</td>\n      <td>NaN</td>\n      <td>53.0</td>\n      <td>75.0</td>\n      <td>14.1</td>\n      <td>6651.291293</td>\n    </tr>\n    <tr>\n      <th>Brazil</th>\n      <td>10.0</td>\n      <td>6.7</td>\n      <td>49.0</td>\n      <td>7.13</td>\n      <td>61.0</td>\n      <td>35.6</td>\n      <td>26.7</td>\n      <td>NaN</td>\n      <td>NaN</td>\n      <td>NaN</td>\n      <td>...</td>\n      <td>90.0</td>\n      <td>NaN</td>\n      <td>NaN</td>\n      <td>2.2</td>\n      <td>395.0</td>\n      <td>NaN</td>\n      <td>79.0</td>\n      <td>73.0</td>\n      <td>16.2</td>\n      <td>8920.762105</td>\n    </tr>\n    <tr>\n      <th>Turkey</th>\n      <td>20.0</td>\n      <td>8.0</td>\n      <td>39.0</td>\n      <td>32.64</td>\n      <td>52.0</td>\n      <td>59.8</td>\n      <td>1.4</td>\n      <td>NaN</td>\n      <td>NaN</td>\n      <td>20.0</td>\n      <td>...</td>\n      <td>86.0</td>\n      <td>1.0</td>\n      <td>69.0</td>\n      <td>1.5</td>\n      <td>425.0</td>\n      <td>14.79</td>\n      <td>86.0</td>\n      <td>65.0</td>\n      <td>18.3</td>\n      <td>9311.366117</td>\n    </tr>\n    <tr>\n      <th>Mexico</th>\n      <td>16.0</td>\n      <td>25.5</td>\n      <td>38.0</td>\n      <td>28.70</td>\n      <td>61.0</td>\n      <td>41.8</td>\n      <td>18.1</td>\n      <td>NaN</td>\n      <td>NaN</td>\n      <td>20.0</td>\n      <td>...</td>\n      <td>81.0</td>\n      <td>1.0</td>\n      <td>66.0</td>\n      <td>3.2</td>\n      <td>416.0</td>\n      <td>NaN</td>\n      <td>63.0</td>\n      <td>68.0</td>\n      <td>15.2</td>\n      <td>9698.084187</td>\n    </tr>\n  </tbody>\n</table>\n<p>5 rows × 25 columns</p>\n</div>"
     },
     "metadata": {},
     "output_type": "execute_result",
     "execution_count": 4
    }
   ],
   "source": [
    "stats = pd.merge(left=oecd, right=gdp, left_index=True, right_index=True)\n",
    "stats.sort_values(by=\"GDP per capita\", inplace=True)\n",
    "stats.head()"
   ],
   "metadata": {
    "collapsed": false,
    "pycharm": {
     "name": "#%%\n",
     "is_executing": false
    }
   }
  },
  {
   "cell_type": "code",
   "execution_count": 4,
   "outputs": [],
   "source": [
    "\n"
   ],
   "metadata": {
    "collapsed": false,
    "pycharm": {
     "name": "#%%\n",
     "is_executing": false
    }
   }
  }
 ],
 "metadata": {
  "kernelspec": {
   "display_name": "Python 3",
   "language": "python",
   "name": "python3"
  },
  "language_info": {
   "codemirror_mode": {
    "name": "ipython",
    "version": 2
   },
   "file_extension": ".py",
   "mimetype": "text/x-python",
   "name": "python",
   "nbconvert_exporter": "python",
   "pygments_lexer": "ipython2",
   "version": "2.7.6"
  },
  "pycharm": {
   "stem_cell": {
    "cell_type": "raw",
    "source": [],
    "metadata": {
     "collapsed": false
    }
   }
  }
 },
 "nbformat": 4,
 "nbformat_minor": 0
}