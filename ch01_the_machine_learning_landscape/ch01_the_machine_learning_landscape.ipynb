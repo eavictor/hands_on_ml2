{
 "cells": [
  {
   "cell_type": "code",
   "execution_count": 1,
   "metadata": {
    "collapsed": true,
    "pycharm": {
     "is_executing": false
    }
   },
   "outputs": [],
   "source": [
    "import matplotlib.pyplot as plt\n",
    "import numpy as np\n",
    "import pandas as pd\n",
    "from sklearn.linear_model import LinearRegression\n",
    "from sklearn.neighbors import KNeighborsRegressor\n",
    "plt.style.use(\"dark_background\")\n",
    "%matplotlib inline"
   ]
  },
  {
   "cell_type": "code",
   "execution_count": 2,
   "outputs": [],
   "source": [
    "def prepare_country_stats(oecd, gdp):\n",
    "    oecd = oecd[oecd[\"INEQUALITY\"]==\"TOT\"]\n",
    "    oecd = oecd.pivot(index=\"Country\", columns=\"Indicator\", values=\"Value\")\n",
    "    \n",
    "    gdp.rename(columns={\"2018\": \"GDP per capita\"}, inplace=True)\n",
    "    gdp.set_index(\"Country Name\", inplace=True)\n",
    "    gdp = gdp[[\"GDP per capita\"]]\n",
    "    \n",
    "    full_country_stats = pd.merge(left=oecd, right=gdp, left_index=True, right_index=True)\n",
    "    full_country_stats.sort_values(by=\"GDP per capita\", inplace=True)\n",
    "    remove_indices = [0, 1, 6, 8, 15, 22, 34]\n",
    "    keep_indices = list(set(range(len(full_country_stats))) - set(remove_indices))\n",
    "    \n",
    "    return full_country_stats[[\"GDP per capita\", 'Life satisfaction']].iloc[keep_indices], full_country_stats[[\"GDP per capita\", 'Life satisfaction']].iloc[remove_indices]"
   ],
   "metadata": {
    "collapsed": false,
    "pycharm": {
     "name": "#%%\n",
     "is_executing": false
    }
   }
  },
  {
   "cell_type": "code",
   "execution_count": 3,
   "outputs": [
    {
     "name": "stdout",
     "text": [
      "Country stats for training: Index(['Brazil', 'Turkey', 'Mexico', 'Poland', 'Hungary', 'Lithuania',\n",
      "       'Slovak Republic', 'Greece', 'Estonia', 'Czech Republic', 'Portugal',\n",
      "       'Spain', 'Italy', 'Japan', 'France', 'Israel', 'New Zealand', 'Canada',\n",
      "       'Belgium', 'Germany', 'Finland', 'Austria', 'Netherlands', 'Sweden',\n",
      "       'Australia', 'Denmark', 'United States', 'Iceland', 'Norway',\n",
      "       'Switzerland', 'Luxembourg'],\n",
      "      dtype='object')\n",
      "Country stats for predict (answers): Index(['South Africa', 'Colombia', 'Chile', 'Latvia', 'Slovenia',\n",
      "       'United Kingdom', 'Ireland'],\n",
      "      dtype='object')\n"
     ],
     "output_type": "stream"
    }
   ],
   "source": [
    "oecd_bli = pd.read_csv(\"oecd_bli.csv\", thousands=\",\")\n",
    "gdp_per_capita = pd.read_csv(\"gdp_per_capita.csv\", thousands=\",\")\n",
    "country_stats_train, country_stats_pred = prepare_country_stats(oecd_bli, gdp_per_capita)\n",
    "print(\"Country stats for training:\", country_stats_train.index)\n",
    "print(\"Country stats for predict (answers):\", country_stats_pred.index)"
   ],
   "metadata": {
    "collapsed": false,
    "pycharm": {
     "name": "#%%\n",
     "is_executing": false
    }
   }
  },
  {
   "cell_type": "code",
   "execution_count": 4,
   "outputs": [],
   "source": [
    "X = np.c_[country_stats_train[\"GDP per capita\"]]\n",
    "y = np.c_[country_stats_train[\"Life satisfaction\"]]"
   ],
   "metadata": {
    "collapsed": false,
    "pycharm": {
     "name": "#%%\n",
     "is_executing": false
    }
   }
  },
  {
   "cell_type": "code",
   "execution_count": 5,
   "outputs": [
    {
     "data": {
      "text/plain": "<Figure size 432x288 with 1 Axes>",
      "image/png": "[encoded data removed]"
     },
     "metadata": {
      "needs_background": "dark"
     },
     "output_type": "display_data"
    },
    {
     "data": {
      "text/plain": "<Figure size 432x288 with 1 Axes>",
      "image/png": "[encoded data removed]"
     },
     "metadata": {
      "needs_background": "dark"
     },
     "output_type": "display_data"
    }
   ],
   "source": [
    "country_stats_train.plot(kind=\"scatter\", x=\"GDP per capita\", y=\"Life satisfaction\")\n",
    "country_stats_pred.plot(kind=\"scatter\", x=\"GDP per capita\", y=\"Life satisfaction\")\n",
    "plt.show()"
   ],
   "metadata": {
    "collapsed": false,
    "pycharm": {
     "name": "#%%\n",
     "is_executing": false
    }
   }
  },
  {
   "cell_type": "code",
   "execution_count": 6,
   "outputs": [
    {
     "data": {
      "text/plain": "                GDP per capita  Life satisfaction\nSouth Africa       6374.015446                4.7\nColombia           6651.291293                6.3\nChile             15923.359062                6.5\nLatvia            18088.927252                5.9\nSlovenia          26234.022896                5.9\nUnited Kingdom    42491.364435                6.8\nIreland           78806.431996                7.0",
      "text/html": "<div>\n<style scoped>\n    .dataframe tbody tr th:only-of-type {\n        vertical-align: middle;\n    }\n\n    .dataframe tbody tr th {\n        vertical-align: top;\n    }\n\n    .dataframe thead th {\n        text-align: right;\n    }\n</style>\n<table border=\"1\" class=\"dataframe\">\n  <thead>\n    <tr style=\"text-align: right;\">\n      <th></th>\n      <th>GDP per capita</th>\n      <th>Life satisfaction</th>\n    </tr>\n  </thead>\n  <tbody>\n    <tr>\n      <th>South Africa</th>\n      <td>6374.015446</td>\n      <td>4.7</td>\n    </tr>\n    <tr>\n      <th>Colombia</th>\n      <td>6651.291293</td>\n      <td>6.3</td>\n    </tr>\n    <tr>\n      <th>Chile</th>\n      <td>15923.359062</td>\n      <td>6.5</td>\n    </tr>\n    <tr>\n      <th>Latvia</th>\n      <td>18088.927252</td>\n      <td>5.9</td>\n    </tr>\n    <tr>\n      <th>Slovenia</th>\n      <td>26234.022896</td>\n      <td>5.9</td>\n    </tr>\n    <tr>\n      <th>United Kingdom</th>\n      <td>42491.364435</td>\n      <td>6.8</td>\n    </tr>\n    <tr>\n      <th>Ireland</th>\n      <td>78806.431996</td>\n      <td>7.0</td>\n    </tr>\n  </tbody>\n</table>\n</div>"
     },
     "metadata": {},
     "output_type": "execute_result",
     "execution_count": 6
    }
   ],
   "source": [
    "country_stats_pred"
   ],
   "metadata": {
    "collapsed": false,
    "pycharm": {
     "name": "#%%\n",
     "is_executing": false
    }
   }
  },
  {
   "cell_type": "code",
   "execution_count": 7,
   "outputs": [],
   "source": [
    "# I choose Latvia is because I use MikroTik RouterBoard :)\n",
    "X_new = country_stats_pred.loc[\"Latvia\"][\"GDP per capita\"]\n",
    "X_new = [[X_new]]  # Must pass the prediction value as list\n",
    "y_new = country_stats_pred.loc[\"Latvia\"][\"Life satisfaction\"]"
   ],
   "metadata": {
    "collapsed": false,
    "pycharm": {
     "name": "#%%\n",
     "is_executing": false
    }
   }
  },
  {
   "cell_type": "code",
   "execution_count": 8,
   "outputs": [
    {
     "name": "stdout",
     "text": [
      "Predicted life satisfaction by LinearRegression model is [[6.16721237]]  And actual value is 5.9\n"
     ],
     "output_type": "stream"
    }
   ],
   "source": [
    "model_reg = LinearRegression()\n",
    "model_reg.fit(X=X, y=y, sample_weight=None)\n",
    "satisfaction_reg = model_reg.predict(X=X_new)\n",
    "print(\"Predicted life satisfaction by LinearRegression model is\", satisfaction_reg, \" And actual value is\", y_new)"
   ],
   "metadata": {
    "collapsed": false,
    "pycharm": {
     "name": "#%%\n",
     "is_executing": false
    }
   }
  },
  {
   "cell_type": "code",
   "execution_count": 9,
   "outputs": [
    {
     "name": "stdout",
     "text": [
      "Predicted life satisfaction by KNeighborsRegressor model is [[5.9]]  And actual value is 5.9\n"
     ],
     "output_type": "stream"
    }
   ],
   "source": [
    "model_knr = KNeighborsRegressor(n_neighbors=3)\n",
    "model_knr.fit(X=X, y=y)\n",
    "satisfaction_knr = model_knr.predict(X=X_new)\n",
    "print(\"Predicted life satisfaction by KNeighborsRegressor model is\", satisfaction_knr, \" And actual value is\", y_new)"
   ],
   "metadata": {
    "collapsed": false,
    "pycharm": {
     "name": "#%%\n",
     "is_executing": false
    }
   }
  },
  {
   "cell_type": "code",
   "execution_count": 9,
   "outputs": [],
   "source": [
    "\n"
   ],
   "metadata": {
    "collapsed": false,
    "pycharm": {
     "name": "#%%\n",
     "is_executing": false
    }
   }
  }
 ],
 "metadata": {
  "kernelspec": {
   "display_name": "Python 3",
   "language": "python",
   "name": "python3"
  },
  "language_info": {
   "codemirror_mode": {
    "name": "ipython",
    "version": 2
   },
   "file_extension": ".py",
   "mimetype": "text/x-python",
   "name": "python",
   "nbconvert_exporter": "python",
   "pygments_lexer": "ipython2",
   "version": "2.7.6"
  },
  "pycharm": {
   "stem_cell": {
    "cell_type": "raw",
    "source": [],
    "metadata": {
     "collapsed": false
    }
   }
  }
 },
 "nbformat": 4,
 "nbformat_minor": 0
}